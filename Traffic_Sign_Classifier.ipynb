{
 "cells": [
  {
   "cell_type": "markdown",
   "metadata": {},
   "source": [
    "# Self-Driving Car Engineer Nanodegree\n",
    "\n",
    "## Deep Learning\n",
    "\n",
    "## Project: Build a Traffic Sign Recognition Classifier\n",
    "\n",
    "In this notebook, a template is provided for you to implement your functionality in stages, which is required to successfully complete this project. If additional code is required that cannot be included in the notebook, be sure that the Python code is successfully imported and included in your submission if necessary. \n",
    "\n",
    "> **Note**: Once you have completed all of the code implementations, you need to finalize your work by exporting the iPython Notebook as an HTML document. Before exporting the notebook to html, all of the code cells need to have been run so that reviewers can see the final implementation and output. You can then export the notebook by using the menu above and navigating to  \\n\",\n",
    "    \"**File -> Download as -> HTML (.html)**. Include the finished document along with this notebook as your submission. \n",
    "\n",
    "In addition to implementing code, there is a writeup to complete. The writeup should be completed in a separate file, which can be either a markdown file or a pdf document. There is a [write up template](https://github.com/udacity/CarND-Traffic-Sign-Classifier-Project/blob/master/writeup_template.md) that can be used to guide the writing process. Completing the code template and writeup template will cover all of the [rubric points](https://review.udacity.com/#!/rubrics/481/view) for this project.\n",
    "\n",
    "The [rubric](https://review.udacity.com/#!/rubrics/481/view) contains \"Stand Out Suggestions\" for enhancing the project beyond the minimum requirements. The stand out suggestions are optional. If you decide to pursue the \"stand out suggestions\", you can include the code in this Ipython notebook and also discuss the results in the writeup file.\n",
    "\n",
    "\n",
    ">**Note:** Code and Markdown cells can be executed using the **Shift + Enter** keyboard shortcut. In addition, Markdown cells can be edited by typically double-clicking the cell to enter edit mode."
   ]
  },
  {
   "cell_type": "markdown",
   "metadata": {},
   "source": [
    "---\n",
    "## Step 0: Load The Data"
   ]
  },
  {
   "cell_type": "code",
   "execution_count": 1,
   "metadata": {
    "collapsed": true
   },
   "outputs": [],
   "source": [
    "# Load pickled data\n",
    "import pickle\n",
    "\n",
    "# TODO: Fill this in based on where you saved the training and testing data\n",
    "\n",
    "training_file = 'traffic-signs-data/train.p'\n",
    "validation_file= 'traffic-signs-data/valid.p'\n",
    "testing_file = 'traffic-signs-data/test.p'\n",
    "\n",
    "with open(training_file, mode='rb') as f:\n",
    "    train = pickle.load(f)\n",
    "with open(validation_file, mode='rb') as f:\n",
    "    valid = pickle.load(f)\n",
    "with open(testing_file, mode='rb') as f:\n",
    "    test = pickle.load(f)\n",
    "\n",
    "X_train, y_train = train['features'], train['labels']\n",
    "X_valid, y_valid = valid['features'], valid['labels']\n",
    "X_test, y_test = test['features'], test['labels']"
   ]
  },
  {
   "cell_type": "markdown",
   "metadata": {},
   "source": [
    "---\n",
    "\n",
    "## Step 1: Dataset Summary & Exploration\n",
    "\n",
    "The pickled data is a dictionary with 4 key/value pairs:\n",
    "\n",
    "- `'features'` is a 4D array containing raw pixel data of the traffic sign images, (num examples, width, height, channels).\n",
    "- `'labels'` is a 1D array containing the label/class id of the traffic sign. The file `signnames.csv` contains id -> name mappings for each id.\n",
    "- `'sizes'` is a list containing tuples, (width, height) representing the original width and height the image.\n",
    "- `'coords'` is a list containing tuples, (x1, y1, x2, y2) representing coordinates of a bounding box around the sign in the image. **THESE COORDINATES ASSUME THE ORIGINAL IMAGE. THE PICKLED DATA CONTAINS RESIZED VERSIONS (32 by 32) OF THESE IMAGES**\n",
    "\n",
    "Complete the basic data summary below. Use python, numpy and/or pandas methods to calculate the data summary rather than hard coding the results. For example, the [pandas shape method](http://pandas.pydata.org/pandas-docs/stable/generated/pandas.DataFrame.shape.html) might be useful for calculating some of the summary results. "
   ]
  },
  {
   "cell_type": "markdown",
   "metadata": {},
   "source": [
    "### Provide a Basic Summary of the Data Set Using Python, Numpy and/or Pandas"
   ]
  },
  {
   "cell_type": "code",
   "execution_count": 2,
   "metadata": {},
   "outputs": [
    {
     "name": "stdout",
     "output_type": "stream",
     "text": [
      "Number of training examples = 34799\n",
      "Number of validation examples = 4410\n",
      "Number of testing examples = 12630\n",
      "Image data shape = (32, 32, 3)\n",
      "Number of classes = 43\n"
     ]
    }
   ],
   "source": [
    "### Replace each question mark with the appropriate value. \n",
    "### Use python, pandas or numpy methods rather than hard coding the results\n",
    "import numpy as np\n",
    "import csv\n",
    "# TODO: Number of training examples\n",
    "n_train = len(X_train)\n",
    "\n",
    "# TODO: Number of validation examples\n",
    "n_validation = len(X_valid)\n",
    "\n",
    "# TODO: Number of testing examples.\n",
    "n_test = len(X_test)\n",
    "\n",
    "# TODO: What's the shape of an traffic sign image?\n",
    "image_shape = X_train[0].shape\n",
    "\n",
    "# TODO: How many unique classes/labels there are in the dataset.\n",
    "n_classes = len(np.unique(y_train))\n",
    "\n",
    "label_names = {}\n",
    "with open('signnames.csv') as csvfile:\n",
    "    filereader = csv.DictReader(csvfile, delimiter=',')\n",
    "    for row in filereader:\n",
    "        label_names[int(row['ClassId'])] = row['SignName']\n",
    "        \n",
    "\n",
    "print(\"Number of training examples =\", n_train)\n",
    "print(\"Number of validation examples =\", n_validation)\n",
    "print(\"Number of testing examples =\", n_test)\n",
    "print(\"Image data shape =\", image_shape)\n",
    "print(\"Number of classes =\", n_classes)\n",
    "# print(\"label_names =\", label_names)"
   ]
  },
  {
   "cell_type": "markdown",
   "metadata": {},
   "source": [
    "### Include an exploratory visualization of the dataset"
   ]
  },
  {
   "cell_type": "markdown",
   "metadata": {},
   "source": [
    "Visualize the German Traffic Signs Dataset using the pickled file(s). This is open ended, suggestions include: plotting traffic sign images, plotting the count of each sign, etc. \n",
    "\n",
    "The [Matplotlib](http://matplotlib.org/) [examples](http://matplotlib.org/examples/index.html) and [gallery](http://matplotlib.org/gallery.html) pages are a great resource for doing visualizations in Python.\n",
    "\n",
    "**NOTE:** It's recommended you start with something simple first. If you wish to do more, come back to it after you've completed the rest of the sections. It can be interesting to look at the distribution of classes in the training, validation and test set. Is the distribution the same? Are there more examples of some classes than others?"
   ]
  },
  {
   "cell_type": "code",
   "execution_count": 3,
   "metadata": {},
   "outputs": [
    {
     "name": "stdout",
     "output_type": "stream",
     "text": [
      "Label 26: Traffic signals\n"
     ]
    },
    {
     "data": {
      "image/png": "[encoded data removed]",
      "text/plain": [
       "<matplotlib.figure.Figure at 0x7f6cf7768908>"
      ]
     },
     "metadata": {},
     "output_type": "display_data"
    }
   ],
   "source": [
    "### Data exploration visualization code goes here.\n",
    "### Feel free to use as many code cells as needed.\n",
    "import random\n",
    "import numpy as np\n",
    "import matplotlib.pyplot as plt\n",
    "# Visualizations will be shown in the notebook.\n",
    "%matplotlib inline\n",
    "\n",
    "def plotImage(image):\n",
    "    plt.figure(figsize=(1,1))\n",
    "    plt.imshow(image)\n",
    "    \n",
    "def plotGrayImage(image):\n",
    "    plt.figure(figsize=(1,1))\n",
    "    plt.imshow(image.squeeze(), cmap=\"gray\")    \n",
    "\n",
    "index = random.randint(0, len(X_train))\n",
    "image = X_train[index].squeeze()\n",
    "\n",
    "plotImage(image)\n",
    "print(\"Label {}: {}\".format(y_train[index], label_names[y_train[index]]))"
   ]
  },
  {
   "cell_type": "markdown",
   "metadata": {},
   "source": [
    "----\n",
    "\n",
    "## Step 2: Design and Test a Model Architecture\n",
    "\n",
    "Design and implement a deep learning model that learns to recognize traffic signs. Train and test your model on the [German Traffic Sign Dataset](http://benchmark.ini.rub.de/?section=gtsrb&subsection=dataset).\n",
    "\n",
    "The LeNet-5 implementation shown in the [classroom](https://classroom.udacity.com/nanodegrees/nd013/parts/fbf77062-5703-404e-b60c-95b78b2f3f9e/modules/6df7ae49-c61c-4bb2-a23e-6527e69209ec/lessons/601ae704-1035-4287-8b11-e2c2716217ad/concepts/d4aca031-508f-4e0b-b493-e7b706120f81) at the end of the CNN lesson is a solid starting point. You'll have to change the number of classes and possibly the preprocessing, but aside from that it's plug and play! \n",
    "\n",
    "With the LeNet-5 solution from the lecture, you should expect a validation set accuracy of about 0.89. To meet specifications, the validation set accuracy will need to be at least 0.93. It is possible to get an even higher accuracy, but 0.93 is the minimum for a successful project submission. \n",
    "\n",
    "There are various aspects to consider when thinking about this problem:\n",
    "\n",
    "- Neural network architecture (is the network over or underfitting?)\n",
    "- Play around preprocessing techniques (normalization, rgb to grayscale, etc)\n",
    "- Number of examples per label (some have more than others).\n",
    "- Generate fake data.\n",
    "\n",
    "Here is an example of a [published baseline model on this problem](http://yann.lecun.com/exdb/publis/pdf/sermanet-ijcnn-11.pdf). It's not required to be familiar with the approach used in the paper but, it's good practice to try to read papers like these."
   ]
  },
  {
   "cell_type": "markdown",
   "metadata": {},
   "source": [
    "### Pre-process the Data Set (normalization, grayscale, etc.)"
   ]
  },
  {
   "cell_type": "markdown",
   "metadata": {},
   "source": [
    "Minimally, the image data should be normalized so that the data has mean zero and equal variance. For image data, `(pixel - 128)/ 128` is a quick way to approximately normalize the data and can be used in this project. \n",
    "\n",
    "Other pre-processing steps are optional. You can try different techniques to see if it improves performance. \n",
    "\n",
    "Use the code cell (or multiple code cells, if necessary) to implement the first step of your project."
   ]
  },
  {
   "cell_type": "code",
   "execution_count": 4,
   "metadata": {
    "collapsed": true
   },
   "outputs": [],
   "source": [
    "### Preprocess the data here. It is required to normalize the data. Other preprocessing steps could include \n",
    "### converting to grayscale, etc.\n",
    "### Feel free to use as many code cells as needed.\n",
    "\n",
    "def convert_to_gray(images):\n",
    "    return np.sum(images/3, axis=3, keepdims=True)\n",
    "\n",
    "def normalize(images):\n",
    "      return (images - 128)/128 "
   ]
  },
  {
   "cell_type": "code",
   "execution_count": 5,
   "metadata": {},
   "outputs": [
    {
     "name": "stdout",
     "output_type": "stream",
     "text": [
      "======= Process Train Images =======\n",
      "RGB shape (34799, 32, 32, 3)\n",
      "Gray shape (34799, 32, 32, 1)\n",
      "Plotting sample rgb vs gray\n"
     ]
    },
    {
     "data": {
      "image/png": "[encoded data removed]",
      "text/plain": [
       "<matplotlib.figure.Figure at 0x7f6cf7759588>"
      ]
     },
     "metadata": {},
     "output_type": "display_data"
    },
    {
     "data": {
      "image/png": "[encoded data removed]",
      "text/plain": [
       "<matplotlib.figure.Figure at 0x7f6cd1f14128>"
      ]
     },
     "metadata": {},
     "output_type": "display_data"
    }
   ],
   "source": [
    "## Process training images\n",
    "print(\"======= Process Train Images =======\")\n",
    "X_train_gray = convert_to_gray(X_train)\n",
    "\n",
    "print(\"RGB shape {}\".format(X_train.shape))\n",
    "print(\"Gray shape {}\".format(X_train_gray.shape))    \n",
    "\n",
    "# Plot rgb vs gray\n",
    "print(\"Plotting sample rgb vs gray\")\n",
    "index = random.randint(0, len(X_train_gray))\n",
    "plotImage(X_train[index])\n",
    "plotGrayImage(X_train_gray[index])\n",
    "\n",
    "X_train_n = normalize(X_train_gray)\n",
    "assert len(X_train_n) == len(X_train)\n",
    "  "
   ]
  },
  {
   "cell_type": "code",
   "execution_count": 6,
   "metadata": {},
   "outputs": [
    {
     "name": "stdout",
     "output_type": "stream",
     "text": [
      "======= Process Test Images =======\n",
      "RGB shape (12630, 32, 32, 3)\n",
      "Gray shape (12630, 32, 32, 1)\n",
      "Plotting sample rgb vs gray\n"
     ]
    },
    {
     "data": {
      "image/png": "[encoded data removed]",
      "text/plain": [
       "<matplotlib.figure.Figure at 0x7f6cd5b05f28>"
      ]
     },
     "metadata": {},
     "output_type": "display_data"
    },
    {
     "data": {
      "image/png": "[encoded data removed]",
      "text/plain": [
       "<matplotlib.figure.Figure at 0x7f6cd1e32550>"
      ]
     },
     "metadata": {},
     "output_type": "display_data"
    }
   ],
   "source": [
    "# Process test images\n",
    "print(\"======= Process Test Images =======\")\n",
    "X_test_gray = convert_to_gray(X_test)\n",
    "\n",
    "print(\"RGB shape {}\".format(X_test.shape))\n",
    "print(\"Gray shape {}\".format(X_test_gray.shape))    \n",
    "\n",
    "# Plot rgb vs gray\n",
    "print(\"Plotting sample rgb vs gray\")\n",
    "index = random.randint(0, len(X_test_gray))\n",
    "plotImage(X_test[index])\n",
    "plotGrayImage(X_test_gray[index])\n",
    "\n",
    "X_test_n = normalize(X_test_gray)\n",
    "assert len(X_test_n) == len(X_test)\n"
   ]
  },
  {
   "cell_type": "code",
   "execution_count": 7,
   "metadata": {},
   "outputs": [
    {
     "name": "stdout",
     "output_type": "stream",
     "text": [
      "======= Process Valid Images =======\n",
      "RGB shape (4410, 32, 32, 3)\n",
      "Gray shape (4410, 32, 32, 1)\n",
      "Plotting sample rgb vs gray\n"
     ]
    },
    {
     "data": {
      "image/png": "[encoded data removed]",
      "text/plain": [
       "<matplotlib.figure.Figure at 0x7f6cd1f14588>"
      ]
     },
     "metadata": {},
     "output_type": "display_data"
    },
    {
     "data": {
      "image/png": "[encoded data removed]",
      "text/plain": [
       "<matplotlib.figure.Figure at 0x7f6cd1f14390>"
      ]
     },
     "metadata": {},
     "output_type": "display_data"
    }
   ],
   "source": [
    "# Process validation images\n",
    "print(\"======= Process Valid Images =======\")\n",
    "X_valid_gray = convert_to_gray(X_valid)\n",
    "\n",
    "print(\"RGB shape {}\".format(X_valid.shape))\n",
    "print(\"Gray shape {}\".format(X_valid_gray.shape))    \n",
    "\n",
    "# Plot rgb vs gray\n",
    "print(\"Plotting sample rgb vs gray\")\n",
    "index = random.randint(0, len(X_valid_gray))\n",
    "plotImage(X_valid[index])\n",
    "plotGrayImage(X_valid_gray[index])\n",
    "\n",
    "X_valid_n = normalize(X_valid_gray)\n",
    "assert len(X_valid_n) == len(X_valid)"
   ]
  },
  {
   "cell_type": "markdown",
   "metadata": {},
   "source": [
    "### Plot the distribution of data"
   ]
  },
  {
   "cell_type": "code",
   "execution_count": 8,
   "metadata": {},
   "outputs": [
    {
     "data": {
      "image/png": "[encoded data removed]",
      "text/plain": [
       "<matplotlib.figure.Figure at 0x7f6cd1f11b70>"
      ]
     },
     "metadata": {},
     "output_type": "display_data"
    }
   ],
   "source": [
    "def plot_distribution(labels, bins=n_classes):\n",
    "    plt.hist(labels, bins=bins)\n",
    "    plt.xlabel(\"Sign\")\n",
    "    plt.ylabel(\"Frequency\")\n",
    "    plt.show()\n",
    "\n",
    "plot_distribution(y_train, bins=n_classes)    "
   ]
  },
  {
   "cell_type": "markdown",
   "metadata": {},
   "source": [
    "### Add some fake data to labels which have too few training samples"
   ]
  },
  {
   "cell_type": "code",
   "execution_count": 9,
   "metadata": {},
   "outputs": [
    {
     "name": "stdout",
     "output_type": "stream",
     "text": [
      "lower_few threshold 749.9999999999998\n",
      "Sparse labels 26\n",
      "Dense labels 17\n"
     ]
    }
   ],
   "source": [
    "# Step1: Get sparse (very few samples) labels and also training images for those labels\n",
    "\n",
    "def get_images_by_labels():\n",
    "    \n",
    "    images_by_labels = {k:[] for k in range(n_classes)}\n",
    "\n",
    "    for i in range(len(X_train_gray)):\n",
    "        label = y_train[i]\n",
    "        images_by_labels[label].append(X_train_gray[i])\n",
    "    \n",
    "    return images_by_labels\n",
    "\n",
    "def get_sparse_labels():\n",
    "    # Get num of images for each label\n",
    "    unique, counts = np.unique(y_train, return_counts=True)\n",
    "\n",
    "    # Get 60th percentile of counts\n",
    "    lower_few = np.percentile(counts, 60)\n",
    "    print(\"lower_few threshold {}\".format(lower_few))\n",
    "    # Collect labels which have num of training images less than median of distribution\n",
    "    sparse_labels = []    \n",
    "    dense_labels = []\n",
    "    \n",
    "    for i in range(len(counts)):\n",
    "        if counts[i] < lower_few:\n",
    "            sparse_labels.append(i)\n",
    "        else:\n",
    "            dense_labels.append(i)\n",
    "    \n",
    "    return lower_few, sparse_labels, dense_labels\n",
    "\n",
    "lower_few, sparse_labels, dense_labels = get_sparse_labels()\n",
    "print(\"Sparse labels {}\".format(len(sparse_labels)))\n",
    "print(\"Dense labels {}\".format(len(dense_labels)))\n"
   ]
  },
  {
   "cell_type": "code",
   "execution_count": 10,
   "metadata": {
    "collapsed": true
   },
   "outputs": [],
   "source": [
    "# Step2: Add Some helper functions to add/reduce brightness\n",
    "\n",
    "# Helper function to add extra brightness to a gray image\n",
    "def add_brightness(gray_image):\n",
    "    extra = random.randint(25, 75)\n",
    "    # print(\"Addding {} brightness\".format(extra))\n",
    "    return np.where((gray_image + extra) > 255,255,gray_image+extra)\n",
    "\n",
    "def reduce_brightness(gray_image):\n",
    "    reduction = random.randint(0, 50)\n",
    "    # print(\"Reducing {} brightness\".format(reduction))\n",
    "    return np.where((gray_image - reduction) < 0, 0, gray_image - reduction)\n",
    "\n",
    "def test_add_brightness():\n",
    "    random_image = X_train_gray[random.randint(0, len(X_train_gray))]\n",
    "    gray_bright = add_brightness(random_image)\n",
    "    print(\"Adding brightness\")\n",
    "    plotGrayImage(gray_bright)\n",
    "    print(\"Original brightness\")\n",
    "    plotGrayImage(random_image)\n",
    "    \n",
    "def test_reduce_brightness():\n",
    "    random_image = X_train_gray[random.randint(0, len(X_train_gray))]\n",
    "    gray_dark = reduce_brightness(random_image)\n",
    "    print(\"Reducing brightness\")\n",
    "    plotGrayImage(gray_dark)\n",
    "    print(\"Original brightness\")\n",
    "    plotGrayImage(random_image)\n",
    "    \n",
    "# test_add_brightness()\n",
    "# test_reduce_brightness()"
   ]
  },
  {
   "cell_type": "code",
   "execution_count": 11,
   "metadata": {},
   "outputs": [
    {
     "name": "stdout",
     "output_type": "stream",
     "text": [
      "lower_few threshold 749.9999999999998\n",
      "X_train_final Shape (46854, 32, 32, 1)\n",
      "y_train_final Shape (46854,)\n"
     ]
    }
   ],
   "source": [
    "# Add random images to sparse labels\n",
    "\n",
    "def generate_similar_images(gray_images, num_images):\n",
    "    \"\"\"\n",
    "    Given gray_images set, will generate similar images. Returns a list of size num_images\n",
    "    \"\"\"\n",
    "    generated_images = []\n",
    "    # print(len(gray_images))\n",
    "    for i in range(num_images):\n",
    "        random_index = random.randint(0, len(gray_images) - 1)\n",
    "        # print(\"randomIndex {}\".format(random_index))\n",
    "        random_image = gray_images[random_index]\n",
    "        coin_flip = random.randint(0, 100)\n",
    "        if coin_flip > 50:\n",
    "            generated_images.append(add_brightness(random_image))\n",
    "        else:\n",
    "            generated_images.append(reduce_brightness(random_image))\n",
    "\n",
    "    return generated_images\n",
    "\n",
    "def add_fake_training_data():\n",
    "    y_train_final = np.copy(y_train)\n",
    "    X_train_final = np.copy(X_train_n)\n",
    "    \n",
    "    assert len(y_train_final) == len(y_train)\n",
    "    images_by_labels = get_images_by_labels()\n",
    "    median_count, sparse_labels, dense_labels = get_sparse_labels()\n",
    "\n",
    "    for label in sparse_labels:\n",
    "        label_images = images_by_labels[label]\n",
    "        current_count = len(label_images)\n",
    "        required_count = int(median_count - current_count)\n",
    "        # print(\"Label {}. Current count {}. Required Count {}\".format(label, current_count, required_count))\n",
    "\n",
    "        new_gray_images = np.array(generate_similar_images(label_images, required_count))\n",
    "        new_gray_images_n = normalize(new_gray_images)\n",
    "        X_train_final = np.append(X_train_final, new_gray_images_n, axis=0)\n",
    "        additional_labels = np.array([label for i in range(required_count)])\n",
    "        y_train_final = np.append(y_train_final, additional_labels)\n",
    "        assert len(y_train_final) == len(X_train_final)\n",
    "    \n",
    "    # For dense labels add 100 random images\n",
    "    for label in dense_labels:\n",
    "        label_images = images_by_labels[label]\n",
    "        required_count = 100\n",
    "        new_gray_images = np.array(generate_similar_images(label_images, required_count))\n",
    "        new_gray_images_n = normalize(new_gray_images)\n",
    "        X_train_final = np.append(X_train_final, new_gray_images_n, axis=0)\n",
    "        additional_labels = np.array([label for i in range(required_count)])\n",
    "        y_train_final = np.append(y_train_final, additional_labels)\n",
    "        assert len(y_train_final) == len(X_train_final)\n",
    "        \n",
    "    return (X_train_final, y_train_final)\n",
    "\n",
    "X_train_final, y_train_final = add_fake_training_data()\n",
    "print(\"X_train_final Shape {}\".format(X_train_final.shape))\n",
    "print(\"y_train_final Shape {}\".format(y_train_final.shape))"
   ]
  },
  {
   "cell_type": "code",
   "execution_count": 12,
   "metadata": {},
   "outputs": [
    {
     "data": {
      "image/png": "[encoded data removed]",
      "text/plain": [
       "<matplotlib.figure.Figure at 0x7f6ccf6f0898>"
      ]
     },
     "metadata": {},
     "output_type": "display_data"
    }
   ],
   "source": [
    "# Finally plot the distribution of classes\n",
    "plot_distribution(y_train_final, bins=n_classes) "
   ]
  },
  {
   "cell_type": "markdown",
   "metadata": {},
   "source": [
    "### Shuffle training data"
   ]
  },
  {
   "cell_type": "code",
   "execution_count": 13,
   "metadata": {
    "collapsed": true
   },
   "outputs": [],
   "source": [
    "# Shuffle training images\n",
    "from sklearn.utils import shuffle\n",
    "X_train_final, y_train_final = shuffle(X_train_final, y_train_final)  "
   ]
  },
  {
   "cell_type": "markdown",
   "metadata": {},
   "source": [
    "### Do sanity check on training data"
   ]
  },
  {
   "cell_type": "code",
   "execution_count": 14,
   "metadata": {},
   "outputs": [
    {
     "data": {
      "image/png": "[encoded data removed]",
      "text/plain": [
       "<matplotlib.figure.Figure at 0x7f6d09c75c50>"
      ]
     },
     "metadata": {},
     "output_type": "display_data"
    }
   ],
   "source": [
    "_, cols = plt.subplots(1,10, figsize=(10, 10))\n",
    "cols = cols.ravel()\n",
    "for i in range(10):\n",
    "    random_index = random.randint(0, len(X_train_final) - 1)\n",
    "    label = y_train_final[random_index]    \n",
    "    cols[i].set_title(\"{}\".format(label))\n",
    "    cols[i].imshow(X_train_final[random_index].squeeze(), cmap=\"gray\")    "
   ]
  },
  {
   "cell_type": "markdown",
   "metadata": {},
   "source": [
    "### Model Architecture"
   ]
  },
  {
   "cell_type": "code",
   "execution_count": 15,
   "metadata": {
    "collapsed": true
   },
   "outputs": [],
   "source": [
    "### Define your architecture here.\n",
    "### Feel free to use as many code cells as needed.\n",
    "from tensorflow.contrib.layers import flatten\n",
    "\n",
    "def LeNet(x, keep_prob=0.6):    \n",
    "    # Arguments used for tf.truncated_normal, randomly defines variables for the weights and biases for each layer\n",
    "    mu = 0\n",
    "    sigma = 0.1\n",
    "    \n",
    "    # Layer 1: Convolutional. 32x32x1 => 28x28x32.\n",
    "    conv1_W = tf.Variable(tf.truncated_normal(shape=(5, 5, 1, 32), mean = mu, stddev = sigma))\n",
    "    conv1_b = tf.Variable(tf.zeros(32))\n",
    "    conv1   = tf.nn.conv2d(x, conv1_W, strides=[1, 1, 1, 1], padding='VALID') + conv1_b\n",
    "\n",
    "    # Activation.\n",
    "    conv1 = tf.nn.relu(conv1)\n",
    "\n",
    "    # Max Pooling. Input = 28x28x32. Output = 14x14x32.\n",
    "    conv1 = tf.nn.max_pool(conv1, ksize=[1, 2, 2, 1], strides=[1, 2, 2, 1], padding='VALID')\n",
    "\n",
    "    # Convolutional. 14x14x32 => 10x10x64.\n",
    "    conv2_W = tf.Variable(tf.truncated_normal(shape=(5, 5, 32, 64), mean = mu, stddev = sigma))\n",
    "    conv2_b = tf.Variable(tf.zeros(64))\n",
    "    conv2   = tf.nn.conv2d(conv1, conv2_W, strides=[1, 1, 1, 1], padding='VALID') + conv2_b    \n",
    "    conv2 = tf.nn.relu(conv2)\n",
    "    # Max Pooling. 10x10x64 => 5x5x64.\n",
    "    conv2 = tf.nn.max_pool(conv2, ksize=[1, 2, 2, 1], strides=[1, 2, 2, 1], padding='VALID')\n",
    "\n",
    "    # Convolutional. 5x5x64 => 3x3x128.\n",
    "    conv3_W = tf.Variable(tf.truncated_normal(shape=(3, 3, 64, 128), mean = mu, stddev = sigma))\n",
    "    conv3_b = tf.Variable(tf.zeros(128))\n",
    "    conv3   = tf.nn.conv2d(conv2, conv3_W, strides=[1, 1, 1, 1], padding='VALID') + conv3_b    \n",
    "    conv3 = tf.nn.relu(conv3)\n",
    "    # Max Pooling. 3x3x128 => 2x2x128.\n",
    "    conv3 = tf.nn.max_pool(conv3, ksize=[1, 2, 2, 1], strides=[1, 1, 1, 1], padding='VALID')\n",
    "    \n",
    "    \n",
    "    # Flatten. 2x2x128 => 512.\n",
    "    fc0   = flatten(conv3)\n",
    "    \n",
    "    # Add dropout to avoid overfitting\n",
    "    fc0 = tf.nn.dropout(fc0, keep_prob)\n",
    "    \n",
    "    #  Fully Connected. 512 => 84.\n",
    "    fc1_W = tf.Variable(tf.truncated_normal(shape=(512, 84), mean = mu, stddev = sigma))\n",
    "    fc1_b = tf.Variable(tf.zeros(84))\n",
    "    fc1   = tf.matmul(fc0, fc1_W) + fc1_b\n",
    "    \n",
    "    # Activation.\n",
    "    fc1    = tf.nn.relu(fc1)\n",
    "\n",
    "    #  Fully Connected. 120 => 84.\n",
    "#     fc2_W  = tf.Variable(tf.truncated_normal(shape=(120, 84), mean = mu, stddev = sigma))\n",
    "#     fc2_b  = tf.Variable(tf.zeros(84))\n",
    "#     fc2    = tf.matmul(fc1, fc2_W) + fc2_b\n",
    "    \n",
    "#     # Activation.\n",
    "#     fc2    = tf.nn.relu(fc2)\n",
    "\n",
    "    #  Fully Connected. 84 => n_classes.\n",
    "    fc3_W  = tf.Variable(tf.truncated_normal(shape=(84, n_classes), mean = mu, stddev = sigma))\n",
    "    fc3_b  = tf.Variable(tf.zeros(n_classes))\n",
    "    logits = tf.matmul(fc1, fc3_W) + fc3_b\n",
    "    \n",
    "    return logits"
   ]
  },
  {
   "cell_type": "markdown",
   "metadata": {},
   "source": [
    "### Train, Validate and Test the Model"
   ]
  },
  {
   "cell_type": "markdown",
   "metadata": {},
   "source": [
    "A validation set can be used to assess how well the model is performing. A low accuracy on the training and validation\n",
    "sets imply underfitting. A high accuracy on the training set but low accuracy on the validation set implies overfitting."
   ]
  },
  {
   "cell_type": "code",
   "execution_count": 23,
   "metadata": {
    "collapsed": true
   },
   "outputs": [],
   "source": [
    "import tensorflow as tf\n",
    "tf.reset_default_graph()\n",
    "x = tf.placeholder(tf.float32, (None, 32, 32, 1))\n",
    "y = tf.placeholder(tf.int32, (None))\n",
    "one_hot_y = tf.one_hot(y, n_classes)\n",
    "logits = LeNet(x)\n",
    "predictions = tf.argmax(logits, 1)"
   ]
  },
  {
   "cell_type": "markdown",
   "metadata": {},
   "source": [
    "### Hyper Parameters"
   ]
  },
  {
   "cell_type": "code",
   "execution_count": 24,
   "metadata": {
    "collapsed": true
   },
   "outputs": [],
   "source": [
    "EPOCHS = 10\n",
    "BATCH_SIZE = 128\n",
    "rate = 0.001"
   ]
  },
  {
   "cell_type": "markdown",
   "metadata": {},
   "source": [
    "### Validation logic"
   ]
  },
  {
   "cell_type": "code",
   "execution_count": 25,
   "metadata": {
    "collapsed": true
   },
   "outputs": [],
   "source": [
    "correct_predictions = tf.equal(tf.argmax(logits, 1), tf.argmax(one_hot_y, 1))\n",
    "validation_accuracy = tf.reduce_mean(tf.cast(correct_predictions, tf.float32))\n",
    "\n",
    "def run_validation(X_data, y_data):\n",
    "    num_examples = len(X_data)\n",
    "    total_accuracy = 0\n",
    "    sess = tf.get_default_session()\n",
    "    for index in range(0, num_examples, BATCH_SIZE):\n",
    "        batch_x, batch_y = X_data[index:index+BATCH_SIZE], y_data[index:index+BATCH_SIZE]\n",
    "        accuracy = sess.run(validation_accuracy, feed_dict={x: batch_x, y: batch_y})\n",
    "        total_accuracy += (accuracy * len(batch_x))\n",
    "    return total_accuracy / num_examples\n",
    "\n",
    "def run_prediction(X_data):\n",
    "    sess = tf.get_default_session()\n",
    "    return sess.run(predictions, feed_dict={x: X_data})"
   ]
  },
  {
   "cell_type": "markdown",
   "metadata": {},
   "source": [
    "### Training pipeline"
   ]
  },
  {
   "cell_type": "code",
   "execution_count": 26,
   "metadata": {
    "collapsed": true
   },
   "outputs": [],
   "source": [
    "cross_entropy = tf.nn.softmax_cross_entropy_with_logits(labels=one_hot_y, logits=logits)\n",
    "loss_operation = tf.reduce_mean(cross_entropy)\n",
    "optimizer = tf.train.AdamOptimizer(learning_rate = rate)\n",
    "training_operation = optimizer.minimize(loss_operation)"
   ]
  },
  {
   "cell_type": "code",
   "execution_count": 27,
   "metadata": {},
   "outputs": [
    {
     "name": "stdout",
     "output_type": "stream",
     "text": [
      "Start Training....\n",
      "\n",
      "Epoch 1, Completed Batch 70/366\n",
      "Epoch 1, Completed Batch 140/366\n",
      "Epoch 1, Completed Batch 210/366\n",
      "Epoch 1, Completed Batch 280/366\n",
      "Epoch 1, Completed Batch 350/366\n",
      "End of Epoch 1, Validation Accuracy = 0.865\n",
      "Epoch 2, Completed Batch 70/366\n",
      "Epoch 2, Completed Batch 140/366\n",
      "Epoch 2, Completed Batch 210/366\n",
      "Epoch 2, Completed Batch 280/366\n",
      "Epoch 2, Completed Batch 350/366\n",
      "End of Epoch 2, Validation Accuracy = 0.911\n",
      "Epoch 3, Completed Batch 70/366\n",
      "Epoch 3, Completed Batch 140/366\n",
      "Epoch 3, Completed Batch 210/366\n",
      "Epoch 3, Completed Batch 280/366\n",
      "Epoch 3, Completed Batch 350/366\n",
      "End of Epoch 3, Validation Accuracy = 0.931\n",
      "Epoch 4, Completed Batch 70/366\n",
      "Epoch 4, Completed Batch 140/366\n",
      "Epoch 4, Completed Batch 210/366\n",
      "Epoch 4, Completed Batch 280/366\n",
      "Epoch 4, Completed Batch 350/366\n",
      "End of Epoch 4, Validation Accuracy = 0.949\n",
      "Epoch 5, Completed Batch 70/366\n",
      "Epoch 5, Completed Batch 140/366\n",
      "Epoch 5, Completed Batch 210/366\n",
      "Epoch 5, Completed Batch 280/366\n",
      "Epoch 5, Completed Batch 350/366\n",
      "End of Epoch 5, Validation Accuracy = 0.949\n",
      "Epoch 6, Completed Batch 70/366\n",
      "Epoch 6, Completed Batch 140/366\n",
      "Epoch 6, Completed Batch 210/366\n",
      "Epoch 6, Completed Batch 280/366\n",
      "Epoch 6, Completed Batch 350/366\n",
      "End of Epoch 6, Validation Accuracy = 0.962\n",
      "Epoch 7, Completed Batch 70/366\n",
      "Epoch 7, Completed Batch 140/366\n",
      "Epoch 7, Completed Batch 210/366\n",
      "Epoch 7, Completed Batch 280/366\n",
      "Epoch 7, Completed Batch 350/366\n",
      "End of Epoch 7, Validation Accuracy = 0.954\n",
      "Epoch 8, Completed Batch 70/366\n",
      "Epoch 8, Completed Batch 140/366\n",
      "Epoch 8, Completed Batch 210/366\n",
      "Epoch 8, Completed Batch 280/366\n",
      "Epoch 8, Completed Batch 350/366\n",
      "End of Epoch 8, Validation Accuracy = 0.956\n",
      "Epoch 9, Completed Batch 70/366\n",
      "Epoch 9, Completed Batch 140/366\n",
      "Epoch 9, Completed Batch 210/366\n",
      "Epoch 9, Completed Batch 280/366\n",
      "Epoch 9, Completed Batch 350/366\n",
      "End of Epoch 9, Validation Accuracy = 0.960\n",
      "Epoch 10, Completed Batch 70/366\n",
      "Epoch 10, Completed Batch 140/366\n",
      "Epoch 10, Completed Batch 210/366\n",
      "Epoch 10, Completed Batch 280/366\n",
      "Epoch 10, Completed Batch 350/366\n",
      "End of Epoch 10, Validation Accuracy = 0.954\n",
      "Model saved\n",
      "Training finished\n",
      "\n",
      "======================== Validation Accuracy: 0.954 =====================\n",
      "\n",
      "======================== Test Accuracy: 0.930 =====================\n",
      "\n",
      "\n",
      "\n"
     ]
    }
   ],
   "source": [
    "print_every_batch = 70\n",
    "def train_traffic_classifier(train_data, labels):\n",
    "    validation_accuracy = 0\n",
    "    with tf.Session() as sess:\n",
    "        sess.run(tf.global_variables_initializer())\n",
    "        num_examples = len(train_data)\n",
    "        num_batches = int(num_examples/BATCH_SIZE)\n",
    "        print('Start Training....\\n')\n",
    "        \n",
    "        for epoch in range(EPOCHS):\n",
    "            batch_num = 0\n",
    "            for index in range(0, num_examples, BATCH_SIZE):\n",
    "                batch_x, batch_y = train_data[index:index+BATCH_SIZE], labels[index:index+BATCH_SIZE]\n",
    "                sess.run(training_operation, feed_dict={x: batch_x, y: batch_y})\n",
    "                if batch_num > 0 and batch_num% print_every_batch == 0:\n",
    "                    print(\"Epoch {}, Completed Batch {}/{}\".format(epoch+1, batch_num, num_batches))\n",
    "                batch_num += 1\n",
    "            \n",
    "            validation_accuracy = run_validation(X_valid_n, y_valid)\n",
    "            print(\"End of Epoch {}, Validation Accuracy = {:.3f}\".format(epoch+1, validation_accuracy))\n",
    "        saver = tf.train.Saver()\n",
    "        saver.save(sess, './trafficmodel')\n",
    "        print(\"Model saved\")\n",
    "        print(\"Training finished\")\n",
    "        print(\"\\n======================== Validation Accuracy: {:.3f} =====================\".format(validation_accuracy))\n",
    "        test_accuracy = run_validation(X_test_n, y_test)\n",
    "        print(\"\\n======================== Test Accuracy: {:.3f} =====================\".format(test_accuracy))\n",
    "        \n",
    "\n",
    "        \n",
    "    \n",
    "\n",
    "train_traffic_classifier(X_train_final, y_train_final)\n",
    "print(\"\\n\\n\")\n"
   ]
  },
  {
   "cell_type": "markdown",
   "metadata": {},
   "source": [
    "---\n",
    "\n",
    "## Step 3: Test a Model on New Images\n",
    "\n",
    "To give yourself more insight into how your model is working, download at least five pictures of German traffic signs from the web and use your model to predict the traffic sign type.\n",
    "\n",
    "You may find `signnames.csv` useful as it contains mappings from the class id (integer) to the actual sign name."
   ]
  },
  {
   "cell_type": "markdown",
   "metadata": {},
   "source": [
    "### Load and Output the Images"
   ]
  },
  {
   "cell_type": "code",
   "execution_count": 28,
   "metadata": {},
   "outputs": [
    {
     "name": "stdout",
     "output_type": "stream",
     "text": [
      "['mysamples/34lefturn.png', 'mysamples/33rightturn.png', 'mysamples/14stop.png', 'mysamples/29bicyclecrossing.png', 'mysamples/13yield.png', 'mysamples/17noentry.png', 'mysamples/11rightofwayblur.png', 'mysamples/11rightofway.png']\n"
     ]
    },
    {
     "data": {
      "image/png": "[encoded data removed]",
      "text/plain": [
       "<matplotlib.figure.Figure at 0x7f6c5984d160>"
      ]
     },
     "metadata": {},
     "output_type": "display_data"
    }
   ],
   "source": [
    "import glob\n",
    "import matplotlib.image as mpimg\n",
    "import cv2\n",
    "\n",
    "label_map = {\n",
    "    'mysamples/34lefturn.png': 34,\n",
    "    'mysamples/33rightturn.png': 33,\n",
    "    'mysamples/14stop.png': 14,\n",
    "    'mysamples/29bicyclecrossing.png':29,\n",
    "    'mysamples/13yield.png': 13,\n",
    "    'mysamples/11rightofway.png': 11,\n",
    "    'mysamples/17noentry.png': 17,\n",
    "    'mysamples/11rightofwayblur.png': 11\n",
    "\n",
    "}\n",
    "\n",
    "def get_my_images():\n",
    "    filelist = glob.glob('mysamples/*.png')\n",
    "    print(filelist)\n",
    "    sample_images = []\n",
    "    sample_labels = []\n",
    "    for fname in filelist:\n",
    "        sample_labels.append(label_map[fname])\n",
    "        img = cv2.imread(fname)\n",
    "        resized_image = cv2.resize(img, (32, 32)) \n",
    "        sample_images.append(resized_image)\n",
    "    return sample_images, sample_labels\n",
    "\n",
    "sample_images, sample_labels = get_my_images()\n",
    "sample_images = np.stack(sample_images)\n",
    "sample_images_gray = convert_to_gray(sample_images)\n",
    "\n",
    "sample_images_final = normalize(sample_images_gray)\n",
    "\n",
    "_, cols = plt.subplots(1,len(sample_images_final), figsize=(10, 10))\n",
    "cols = cols.ravel()\n",
    "for i in range(len(sample_images_final)):\n",
    "    label = sample_labels[i]    \n",
    "    cols[i].set_title(\"{}\".format(label))\n",
    "    cols[i].imshow(sample_images_final[i].squeeze(), cmap=\"gray\")    \n"
   ]
  },
  {
   "cell_type": "markdown",
   "metadata": {},
   "source": [
    "### Predict the Sign Type for Each Image"
   ]
  },
  {
   "cell_type": "code",
   "execution_count": 32,
   "metadata": {},
   "outputs": [
    {
     "name": "stdout",
     "output_type": "stream",
     "text": [
      "Predicted Labels: [34 33 14 23 13 17 11 11]\n",
      "Expected Labels: [34, 33, 14, 29, 13, 17, 11, 11]\n"
     ]
    }
   ],
   "source": [
    "### Run the predictions here and use the model to output the prediction for each image.\n",
    "### Make sure to pre-process the images with the same pre-processing pipeline used earlier.\n",
    "### Feel free to use as many code cells as needed.\n",
    "with tf.Session() as sess:\n",
    "    sess.run(tf.global_variables_initializer())\n",
    "    saver2 = tf.train.import_meta_graph('./trafficmodel.meta')\n",
    "    saver2.restore(sess, \"./trafficmodel\")\n",
    "    prediction = run_prediction(sample_images_final)\n",
    "    print(\"Predicted Labels: {}\".format(prediction))\n",
    "    print(\"Expected Labels: {}\".format(sample_labels))"
   ]
  },
  {
   "cell_type": "markdown",
   "metadata": {},
   "source": [
    "### Analyze Performance"
   ]
  },
  {
   "cell_type": "code",
   "execution_count": 33,
   "metadata": {},
   "outputs": [
    {
     "name": "stdout",
     "output_type": "stream",
     "text": [
      "Accuracy by comparing lists 87.50%\n"
     ]
    }
   ],
   "source": [
    "### Calculate the accuracy for these 5 new images. \n",
    "### For example, if the model predicted 1 out of 5 signs correctly, it's 20% accurate on these new images.\n",
    "num_predicts = len(prediction)\n",
    "correct = 0\n",
    "for pre_sample in zip(prediction, sample_labels):\n",
    "    correct += 1 if pre_sample[0] == pre_sample[1] else 0\n",
    "    \n",
    "print(\"Accuracy by comparing lists {:.2f}%\".format(correct*100/num_predicts))"
   ]
  },
  {
   "cell_type": "markdown",
   "metadata": {},
   "source": [
    "### Output Top 5 Softmax Probabilities For Each Image Found on the Web"
   ]
  },
  {
   "cell_type": "markdown",
   "metadata": {},
   "source": [
    "For each of the new images, print out the model's softmax probabilities to show the **certainty** of the model's predictions (limit the output to the top 5 probabilities for each image). [`tf.nn.top_k`](https://www.tensorflow.org/versions/r0.12/api_docs/python/nn.html#top_k) could prove helpful here. \n",
    "\n",
    "The example below demonstrates how tf.nn.top_k can be used to find the top k predictions for each image.\n",
    "\n",
    "`tf.nn.top_k` will return the values and indices (class ids) of the top k predictions. So if k=3, for each sign, it'll return the 3 largest probabilities (out of a possible 43) and the correspoding class ids.\n",
    "\n",
    "Take this numpy array as an example. The values in the array represent predictions. The array contains softmax probabilities for five candidate images with six possible classes. `tf.nn.top_k` is used to choose the three classes with the highest probability:\n",
    "\n",
    "```\n",
    "# (5, 6) array\n",
    "a = np.array([[ 0.24879643,  0.07032244,  0.12641572,  0.34763842,  0.07893497,\n",
    "         0.12789202],\n",
    "       [ 0.28086119,  0.27569815,  0.08594638,  0.0178669 ,  0.18063401,\n",
    "         0.15899337],\n",
    "       [ 0.26076848,  0.23664738,  0.08020603,  0.07001922,  0.1134371 ,\n",
    "         0.23892179],\n",
    "       [ 0.11943333,  0.29198961,  0.02605103,  0.26234032,  0.1351348 ,\n",
    "         0.16505091],\n",
    "       [ 0.09561176,  0.34396535,  0.0643941 ,  0.16240774,  0.24206137,\n",
    "         0.09155967]])\n",
    "```\n",
    "\n",
    "Running it through `sess.run(tf.nn.top_k(tf.constant(a), k=3))` produces:\n",
    "\n",
    "```\n",
    "TopKV2(values=array([[ 0.34763842,  0.24879643,  0.12789202],\n",
    "       [ 0.28086119,  0.27569815,  0.18063401],\n",
    "       [ 0.26076848,  0.23892179,  0.23664738],\n",
    "       [ 0.29198961,  0.26234032,  0.16505091],\n",
    "       [ 0.34396535,  0.24206137,  0.16240774]]), indices=array([[3, 0, 5],\n",
    "       [0, 1, 4],\n",
    "       [0, 5, 1],\n",
    "       [1, 3, 5],\n",
    "       [1, 4, 3]], dtype=int32))\n",
    "```\n",
    "\n",
    "Looking just at the first row we get `[ 0.34763842,  0.24879643,  0.12789202]`, you can confirm these are the 3 largest probabilities in `a`. You'll also notice `[3, 0, 5]` are the corresponding indices."
   ]
  },
  {
   "cell_type": "code",
   "execution_count": 35,
   "metadata": {},
   "outputs": [
    {
     "name": "stdout",
     "output_type": "stream",
     "text": [
      "0. Probabilities [  9.82371747e-01   1.19156288e-02   2.53225444e-03   1.81850430e-03\n",
      "   5.55440318e-04]\n",
      "0.Guessed Labels: [34 21 11 30 38], Expected Label 34\n",
      "\n",
      "\n",
      "1. Probabilities [  1.00000000e+00   9.80774156e-16   6.21845691e-16   3.19357176e-16\n",
      "   5.85865690e-17]\n",
      "1.Guessed Labels: [33 25 11 35 10], Expected Label 33\n",
      "\n",
      "\n",
      "2. Probabilities [  1.00000000e+00   3.20514795e-12   4.65871319e-13   4.12102725e-13\n",
      "   1.64772316e-13]\n",
      "2.Guessed Labels: [14 17 34 38 12], Expected Label 14\n",
      "\n",
      "\n",
      "3. Probabilities [  9.99999046e-01   9.61963792e-07   1.27202098e-08   7.58059038e-09\n",
      "   5.12431653e-09]\n",
      "3.Guessed Labels: [23 30 29 19 24], Expected Label 29\n",
      "\n",
      "\n",
      "4. Probabilities [  9.99999881e-01   1.48105642e-07   1.47790642e-08   6.13253837e-10\n",
      "   1.52765613e-11]\n",
      "4.Guessed Labels: [13 10 14 15 35], Expected Label 13\n",
      "\n",
      "\n",
      "5. Probabilities [  1.00000000e+00   3.48571868e-19   1.59014530e-22   5.92466686e-24\n",
      "   8.71719206e-25]\n",
      "5.Guessed Labels: [17  7 12 16  9], Expected Label 17\n",
      "\n",
      "\n",
      "6. Probabilities [ 0.85222316  0.05053447  0.04386973  0.02332762  0.01181182]\n",
      "6.Guessed Labels: [11 12 30 26 40], Expected Label 11\n",
      "\n",
      "\n",
      "7. Probabilities [  1.00000000e+00   8.27354074e-10   1.23641292e-17   4.29326408e-21\n",
      "   2.31824182e-22]\n",
      "7.Guessed Labels: [11 30 12 26 40], Expected Label 11\n",
      "\n",
      "\n"
     ]
    }
   ],
   "source": [
    "### Print out the top five softmax probabilities for the predictions on the German traffic sign images found on the web. \n",
    "### Feel free to use as many code cells as needed.\n",
    "softmax_res = tf.nn.softmax(logits)\n",
    "top_k = tf.nn.top_k(softmax_res, k=5)\n",
    "\n",
    "with tf.Session() as sess:\n",
    "    sess.run(tf.global_variables_initializer())\n",
    "    saver = tf.train.import_meta_graph('./trafficmodel.meta')\n",
    "    saver.restore(sess, \"./trafficmodel\")\n",
    "    final_softmax_res = sess.run(softmax_res, feed_dict={x: sample_images_final})\n",
    "    final_top_k = sess.run(top_k, feed_dict={x: sample_images_final})\n",
    "    probabs = final_top_k[0]\n",
    "    indices = final_top_k[1]\n",
    "    for i in range(len(sample_images_final)):\n",
    "        print(\"{}. Probabilities {}\".format(\n",
    "            i, probabs[i]))\n",
    "        print(\"{}.Guessed Labels: {}, Expected Label {}\".format(i, indices[i], sample_labels[i]))\n",
    "        print(\"\\n\")"
   ]
  },
  {
   "cell_type": "markdown",
   "metadata": {},
   "source": [
    "### Project Writeup\n",
    "\n",
    "Once you have completed the code implementation, document your results in a project writeup using this [template](https://github.com/udacity/CarND-Traffic-Sign-Classifier-Project/blob/master/writeup_template.md) as a guide. The writeup can be in a markdown or pdf file. "
   ]
  },
  {
   "cell_type": "markdown",
   "metadata": {},
   "source": [
    "> **Note**: Once you have completed all of the code implementations and successfully answered each question above, you may finalize your work by exporting the iPython Notebook as an HTML document. You can do this by using the menu above and navigating to  \\n\",\n",
    "    \"**File -> Download as -> HTML (.html)**. Include the finished document along with this notebook as your submission."
   ]
  },
  {
   "cell_type": "markdown",
   "metadata": {},
   "source": [
    "---\n",
    "\n",
    "## Step 4 (Optional): Visualize the Neural Network's State with Test Images\n",
    "\n",
    " This Section is not required to complete but acts as an additional excersise for understaning the output of a neural network's weights. While neural networks can be a great learning device they are often referred to as a black box. We can understand what the weights of a neural network look like better by plotting their feature maps. After successfully training your neural network you can see what it's feature maps look like by plotting the output of the network's weight layers in response to a test stimuli image. From these plotted feature maps, it's possible to see what characteristics of an image the network finds interesting. For a sign, maybe the inner network feature maps react with high activation to the sign's boundary outline or to the contrast in the sign's painted symbol.\n",
    "\n",
    " Provided for you below is the function code that allows you to get the visualization output of any tensorflow weight layer you want. The inputs to the function should be a stimuli image, one used during training or a new one you provided, and then the tensorflow variable name that represents the layer's state during the training process, for instance if you wanted to see what the [LeNet lab's](https://classroom.udacity.com/nanodegrees/nd013/parts/fbf77062-5703-404e-b60c-95b78b2f3f9e/modules/6df7ae49-c61c-4bb2-a23e-6527e69209ec/lessons/601ae704-1035-4287-8b11-e2c2716217ad/concepts/d4aca031-508f-4e0b-b493-e7b706120f81) feature maps looked like for it's second convolutional layer you could enter conv2 as the tf_activation variable.\n",
    "\n",
    "For an example of what feature map outputs look like, check out NVIDIA's results in their paper [End-to-End Deep Learning for Self-Driving Cars](https://devblogs.nvidia.com/parallelforall/deep-learning-self-driving-cars/) in the section Visualization of internal CNN State. NVIDIA was able to show that their network's inner weights had high activations to road boundary lines by comparing feature maps from an image with a clear path to one without. Try experimenting with a similar test to show that your trained network's weights are looking for interesting features, whether it's looking at differences in feature maps from images with or without a sign, or even what feature maps look like in a trained network vs a completely untrained one on the same sign image.\n",
    "\n",
    "<figure>\n",
    " <img src=\"visualize_cnn.png\" width=\"380\" alt=\"Combined Image\" />\n",
    " <figcaption>\n",
    " <p></p> \n",
    " <p style=\"text-align: center;\"> Your output should look something like this (above)</p> \n",
    " </figcaption>\n",
    "</figure>\n",
    " <p></p> \n"
   ]
  },
  {
   "cell_type": "code",
   "execution_count": null,
   "metadata": {
    "collapsed": true
   },
   "outputs": [],
   "source": [
    "### Visualize your network's feature maps here.\n",
    "### Feel free to use as many code cells as needed.\n",
    "\n",
    "# image_input: the test image being fed into the network to produce the feature maps\n",
    "# tf_activation: should be a tf variable name used during your training procedure that represents the calculated state of a specific weight layer\n",
    "# activation_min/max: can be used to view the activation contrast in more detail, by default matplot sets min and max to the actual min and max values of the output\n",
    "# plt_num: used to plot out multiple different weight feature map sets on the same block, just extend the plt number for each new feature map entry\n",
    "\n",
    "def outputFeatureMap(image_input, tf_activation, activation_min=-1, activation_max=-1 ,plt_num=1):\n",
    "    # Here make sure to preprocess your image_input in a way your network expects\n",
    "    # with size, normalization, ect if needed\n",
    "    # image_input =\n",
    "    # Note: x should be the same name as your network's tensorflow data placeholder variable\n",
    "    # If you get an error tf_activation is not defined it may be having trouble accessing the variable from inside a function\n",
    "    activation = tf_activation.eval(session=sess,feed_dict={x : image_input})\n",
    "    featuremaps = activation.shape[3]\n",
    "    plt.figure(plt_num, figsize=(15,15))\n",
    "    for featuremap in range(featuremaps):\n",
    "        plt.subplot(6,8, featuremap+1) # sets the number of feature maps to show on each row and column\n",
    "        plt.title('FeatureMap ' + str(featuremap)) # displays the feature map number\n",
    "        if activation_min != -1 & activation_max != -1:\n",
    "            plt.imshow(activation[0,:,:, featuremap], interpolation=\"nearest\", vmin =activation_min, vmax=activation_max, cmap=\"gray\")\n",
    "        elif activation_max != -1:\n",
    "            plt.imshow(activation[0,:,:, featuremap], interpolation=\"nearest\", vmax=activation_max, cmap=\"gray\")\n",
    "        elif activation_min !=-1:\n",
    "            plt.imshow(activation[0,:,:, featuremap], interpolation=\"nearest\", vmin=activation_min, cmap=\"gray\")\n",
    "        else:\n",
    "            plt.imshow(activation[0,:,:, featuremap], interpolation=\"nearest\", cmap=\"gray\")"
   ]
  }
 ],
 "metadata": {
  "anaconda-cloud": {},
  "kernelspec": {
   "display_name": "Python 3",
   "language": "python",
   "name": "python3"
  },
  "language_info": {
   "codemirror_mode": {
    "name": "ipython",
    "version": 3
   },
   "file_extension": ".py",
   "mimetype": "text/x-python",
   "name": "python",
   "nbconvert_exporter": "python",
   "pygments_lexer": "ipython3",
   "version": "3.5.2"
  },
  "widgets": {
   "state": {},
   "version": "1.1.2"
  }
 },
 "nbformat": 4,
 "nbformat_minor": 1
}
